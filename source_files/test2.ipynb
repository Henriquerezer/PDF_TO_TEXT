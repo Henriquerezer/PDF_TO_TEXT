{
 "cells": [
  {
   "cell_type": "code",
   "execution_count": 1,
   "metadata": {},
   "outputs": [],
   "source": [
    "from pikepdf import Pdf, PdfImage"
   ]
  },
  {
   "cell_type": "code",
   "execution_count": 19,
   "metadata": {},
   "outputs": [],
   "source": [
    "arquivo = Pdf.open('Resumo Cirurgia Buco-Maxilo-Facial II.pdf')"
   ]
  },
  {
   "cell_type": "code",
   "execution_count": 20,
   "metadata": {},
   "outputs": [
    {
     "name": "stdout",
     "output_type": "stream",
     "text": [
      "<pikepdf._core.PageList len=14>\n"
     ]
    }
   ],
   "source": [
    "print(arquivo.pages)"
   ]
  },
  {
   "cell_type": "code",
   "execution_count": 21,
   "metadata": {},
   "outputs": [
    {
     "name": "stdout",
     "output_type": "stream",
     "text": [
      "/Image29\n",
      "/Image30\n",
      "/Image5\n",
      "/Image33\n",
      "/Image36\n",
      "/Image39\n",
      "/Image40\n",
      "/Image41\n",
      "/Image44\n",
      "/Image47\n",
      "/Image48\n",
      "/Image49\n",
      "/Image52\n",
      "/Image53\n",
      "/Image54\n",
      "/Image57\n",
      "/Image65\n",
      "/Image71\n",
      "/Image74\n",
      "/Image77\n",
      "/Image78\n",
      "/Image79\n",
      "/Image82\n",
      "/Image85\n",
      "/Image88\n",
      "/Image91\n"
     ]
    }
   ],
   "source": [
    "for pagina in arquivo.pages:\n",
    "    for nome, imagem in pagina.images.items():\n",
    "        print(nome)\n",
    " #       imagem_salvar = PdfImage(imagem)\n",
    " #       imagem_salvar.extract_to(fileprefix = f\"{nome}\")"
   ]
  }
 ],
 "metadata": {
  "kernelspec": {
   "display_name": ".venv",
   "language": "python",
   "name": "python3"
  },
  "language_info": {
   "codemirror_mode": {
    "name": "ipython",
    "version": 3
   },
   "file_extension": ".py",
   "mimetype": "text/x-python",
   "name": "python",
   "nbconvert_exporter": "python",
   "pygments_lexer": "ipython3",
   "version": "3.11.8"
  }
 },
 "nbformat": 4,
 "nbformat_minor": 2
}
