{
 "cells": [
  {
   "cell_type": "code",
   "execution_count": 1,
   "metadata": {},
   "outputs": [
    {
     "name": "stdout",
     "output_type": "stream",
     "text": [
      "Título do Artigo: Python (programming language)\n",
      "Introdução: \n",
      "\n"
     ]
    }
   ],
   "source": [
    "import requests\n",
    "from bs4 import BeautifulSoup\n",
    "\n",
    "# URL do artigo na Wikipedia\n",
    "url = 'https://en.wikipedia.org/wiki/Python_(programming_language)'\n",
    "\n",
    "try:\n",
    "    # Enviar uma solicitação GET para obter o conteúdo da página\n",
    "    response = requests.get(url)\n",
    "    response.raise_for_status()  # Verificar se a solicitação foi bem-sucedida\n",
    "except requests.exceptions.RequestException as e:\n",
    "    print(\"Erro ao fazer a solicitação:\", e)\n",
    "    exit()\n",
    "\n",
    "# Parsear o conteúdo HTML usando BeautifulSoup\n",
    "soup = BeautifulSoup(response.text, 'html.parser')\n",
    "\n",
    "# Extrair o título do artigo\n",
    "title = soup.find('h1', class_='firstHeading').text\n",
    "\n",
    "# Extrair a introdução do artigo\n",
    "intro_paragraph = soup.find('div', class_='mw-parser-output').p.text\n",
    "\n",
    "# Exibir as informações extraídas\n",
    "print(f\"Título do Artigo: {title}\")\n",
    "print(f\"Introdução: {intro_paragraph}\")\n"
   ]
  },
  {
   "cell_type": "code",
   "execution_count": 2,
   "metadata": {},
   "outputs": [
    {
     "name": "stdout",
     "output_type": "stream",
     "text": [
      "Texto no campo History:\n",
      "Python was invented in the late 1980s[40] by Guido van Rossum at Centrum Wiskunde & Informatica (CWI) in the Netherlands as a successor to the ABC programming language, which was inspired by SETL,[41] capable of exception handling and interfacing with the Amoeba operating system.[10] Its implementation began in December 1989.[42] Van Rossum shouldered sole responsibility for the project, as the lead developer, until 12 July 2018, when he announced his \"permanent vacation\" from his responsibilities as Python's \"benevolent dictator for life\", a title the Python community bestowed upon him to reflect his long-term commitment as the project's chief decision-maker.[43] In January 2019, active Python core developers elected a five-member Steering Council to lead the project.[44][45]\n"
     ]
    }
   ],
   "source": [
    "import requests\n",
    "from bs4 import BeautifulSoup\n",
    "\n",
    "# URL do artigo na Wikipedia\n",
    "url = 'https://en.wikipedia.org/wiki/Python_(programming_language)'\n",
    "\n",
    "try:\n",
    "    # Enviar uma solicitação GET para obter o conteúdo da página\n",
    "    response = requests.get(url)\n",
    "    response.raise_for_status()  # Verificar se a solicitação foi bem-sucedida\n",
    "except requests.exceptions.RequestException as e:\n",
    "    print(\"Erro ao fazer a solicitação:\", e)\n",
    "    exit()\n",
    "\n",
    "# Parsear o conteúdo HTML usando BeautifulSoup\n",
    "soup = BeautifulSoup(response.text, 'html.parser')\n",
    "\n",
    "# Encontrar o elemento que contém o campo \"History\"\n",
    "history_heading = soup.find('span', id='History')\n",
    "\n",
    "# Se o elemento for encontrado, encontrar o próximo elemento irmão que contém o texto\n",
    "if history_heading:\n",
    "    history_text = history_heading.find_next('p').text.strip()\n",
    "    print(\"Texto no campo History:\")\n",
    "    print(history_text)\n",
    "else:\n",
    "    print(\"Campo 'History' não encontrado.\")\n"
   ]
  },
  {
   "cell_type": "code",
   "execution_count": 3,
   "metadata": {},
   "outputs": [
    {
     "name": "stdout",
     "output_type": "stream",
     "text": [
      "Texto no campo History:\n",
      "Python was invented in the late 1980s[40]byGuido van RossumatCentrum Wiskunde & Informatica(CWI) in theNetherlandsas a successor to theABC programming language, which was inspired bySETL,[41]capable ofexception handlingand interfacing with theAmoebaoperating system.[10]Its implementation began in December 1989.[42]Van Rossum shouldered sole responsibility for the project, as the lead developer, until 12 July 2018, when he announced his \"permanent vacation\" from his responsibilities as Python's \"benevolent dictator for life\", a title the Python community bestowed upon him to reflect his long-term commitment as the project's chief decision-maker.[43]In January 2019, active Python core developers elected a five-member Steering Council to lead the project.[44][45]\n",
      "\n",
      "Python 2.0 was released on 16 October 2000, with many major new features such aslist comprehensions,cycle-detectinggarbage collection,reference counting, andUnicodesupport.[46]Python 3.0, released on 3 December 2008, with many of its major featuresbackportedto Python 2.6.x[47]and 2.7.x. Releases of Python 3 include the2to3utility, which automates the translation of Python 2 code to Python 3.[48]\n",
      "\n",
      "Python 2.7'send-of-lifewas initially set for 2015, then postponed to 2020 out of concern that a large body of existing code could not easily be forward-ported to Python 3.[49][50]No further security patches or other improvements will be released for it.[51][52]Currently only 3.8 and later are supported (2023 security issues were fixed in e.g. 3.7.17, the final 3.7.x release[53]). While Python 2.7 and older is officially unsupported, a different unofficial Python implementation,PyPy, continues to support Python 2, i.e. \"2.7.18+\" (plus 3.9 and 3.10), with the plus meaning (at least some) \"backportedsecurity updates\".[54]\n",
      "\n",
      "In 2021 (and again twice in 2022), security updates were expedited, since all Python versions were insecure (including 2.7[55]) because of security issues leading to possibleremote code execution[56]andweb-cache poisoning.[57]In 2022, Python 3.10.4 and 3.9.12 were expedited[58]and 3.8.13, because of many security issues.[59]When Python 3.9.13 was released in May 2022, it was announced that the 3.9 series (joining the older series 3.8 and 3.7) would only receive security fixes in the future.[60]On 7 September 2022, four new releases were made due to a potentialdenial-of-service attack: 3.10.7, 3.9.14, 3.8.14, and 3.7.14.[61][62]\n",
      "\n",
      "As of October 2023,[update]Python 3.12 is the stable release, and 3.12 and 3.11 are the only versions with active (as opposed to just security) support. Notable changes in 3.11 from 3.10 include increased program execution speed and improved error reporting.[63]\n",
      "\n",
      "Python 3.12 adds syntax (and in fact every Python since at least 3.5 adds some syntax) to the language, the new (soft) keywordtype(recent releases have added a lot of typing support e.g. new type union operator in 3.10), and 3.11 for exception handling, and 3.10 thematchandcase(soft) keywords, for structuralpattern matchingstatements. Python 3.12 also drops outdated modules and functionality, and future versions will too, see below inDevelopmentsection.\n",
      "\n",
      "Python 3.11 claims to be between 10 and 60% faster than Python 3.10, and Python 3.12 adds another 5% on top of that. It also has improved error messages, and many other changes.\n",
      "\n",
      "Since 27 June 2023[update], Python 3.8 is the oldest supported version of Python (albeit in the 'security support' phase), due to Python 3.7 reachingend-of-life.[64]\n",
      "\n",
      "\n"
     ]
    }
   ],
   "source": [
    "import requests\n",
    "from bs4 import BeautifulSoup\n",
    "\n",
    "# URL do artigo na Wikipedia\n",
    "url = 'https://en.wikipedia.org/wiki/Python_(programming_language)'\n",
    "\n",
    "try:\n",
    "    # Enviar uma solicitação GET para obter o conteúdo da página\n",
    "    response = requests.get(url)\n",
    "    response.raise_for_status()  # Verificar se a solicitação foi bem-sucedida\n",
    "except requests.exceptions.RequestException as e:\n",
    "    print(\"Erro ao fazer a solicitação:\", e)\n",
    "    exit()\n",
    "\n",
    "# Parsear o conteúdo HTML usando BeautifulSoup\n",
    "soup = BeautifulSoup(response.text, 'html.parser')\n",
    "\n",
    "# Encontrar o elemento que contém o campo \"History\"\n",
    "history_heading = soup.find('span', id='History')\n",
    "\n",
    "# Se o elemento for encontrado, encontrar todos os parágrafos subsequentes até o próximo título de seção\n",
    "if history_heading:\n",
    "    history_text = \"\"\n",
    "    next_element = history_heading.find_next()\n",
    "    while next_element and not next_element.find('span', id='Design_philosophy_and_features'):\n",
    "        if next_element.name == 'p':\n",
    "            history_text += next_element.get_text(strip=True) + \"\\n\\n\"\n",
    "        next_element = next_element.find_next()\n",
    "    \n",
    "    print(\"Texto no campo History:\")\n",
    "    print(history_text)\n",
    "else:\n",
    "    print(\"Campo 'History' não encontrado.\")\n"
   ]
  },
  {
   "cell_type": "code",
   "execution_count": 4,
   "metadata": {},
   "outputs": [
    {
     "name": "stdout",
     "output_type": "stream",
     "text": [
      "Erro ao fazer login: 400 Client Error: Bad Request for url: https://aproveibuco.com.br/auth/realms/AproveiExterno/protocol/openid-connect/auth?client_id=aprovei-externo&redirect_uri=https%3A%2F%2Faproveibuco.com.br%2Faprovei-web%2Fsimulados&state=82f31334-c0d1-438c-83a8-3cc0a669ea5c&response_mode=fragment&response_type=code&scope=openid&nonce=7e2e1005-1e8c-41da-8512-8170be6baae2\n"
     ]
    },
    {
     "ename": "",
     "evalue": "",
     "output_type": "error",
     "traceback": [
      "\u001b[1;31mThe Kernel crashed while executing code in the current cell or a previous cell. \n",
      "\u001b[1;31mPlease review the code in the cell(s) to identify a possible cause of the failure. \n",
      "\u001b[1;31mClick <a href='https://aka.ms/vscodeJupyterKernelCrash'>here</a> for more info. \n",
      "\u001b[1;31mView Jupyter <a href='command:jupyter.viewOutput'>log</a> for further details."
     ]
    }
   ],
   "source": [
    "import requests\n",
    "from bs4 import BeautifulSoup\n",
    "\n",
    "# URL do site e informações de login\n",
    "login_url = 'https://aproveibuco.com.br/auth/realms/AproveiExterno/protocol/openid-connect/auth?client_id=aprovei-externo&redirect_uri=https%3A%2F%2Faproveibuco.com.br%2Faprovei-web%2Fsimulados&state=82f31334-c0d1-438c-83a8-3cc0a669ea5c&response_mode=fragment&response_type=code&scope=openid&nonce=7e2e1005-1e8c-41da-8512-8170be6baae2'\n",
    "username = '525.515.449-04'\n",
    "password = 'vitorlegal'\n",
    "\n",
    "# Dados do formulário de login\n",
    "login_data = {\n",
    "    'username': username,\n",
    "    'password': password\n",
    "}\n",
    "\n",
    "# Criar uma sessão para manter cookies de autenticação\n",
    "session = requests.Session()\n",
    "\n",
    "try:\n",
    "    # Enviar uma solicitação POST para fazer login\n",
    "    login_response = session.post(login_url, data=login_data)\n",
    "    login_response.raise_for_status()  # Verificar se o login foi bem-sucedido\n",
    "except requests.exceptions.RequestException as e:\n",
    "    print(\"Erro ao fazer login:\", e)\n",
    "    exit()\n",
    "\n",
    "# URL do artigo ou página que você deseja acessar após o login\n",
    "url = 'https://aproveibuco.com.br/aprovei-web/simulados'\n",
    "\n",
    "try:\n",
    "    # Enviar uma solicitação GET para acessar a página desejada após o login\n",
    "    response = session.get(url)\n",
    "    response.raise_for_status()  # Verificar se a solicitação foi bem-sucedida\n",
    "except requests.exceptions.RequestException as e:\n",
    "    print(\"Erro ao acessar a página:\", e)\n",
    "    exit()\n",
    "\n",
    "# Parsear o conteúdo HTML usando BeautifulSoup\n",
    "soup = BeautifulSoup(response.text, 'html.parser')\n",
    "\n",
    "# Agora você pode continuar com o seu código de web scraping aqui\n"
   ]
  },
  {
   "cell_type": "code",
   "execution_count": 1,
   "metadata": {},
   "outputs": [
    {
     "name": "stdout",
     "output_type": "stream",
     "text": [
      "h\n"
     ]
    }
   ],
   "source": [
    "print('h')"
   ]
  }
 ],
 "metadata": {
  "kernelspec": {
   "display_name": ".venv",
   "language": "python",
   "name": "python3"
  },
  "language_info": {
   "codemirror_mode": {
    "name": "ipython",
    "version": 3
   },
   "file_extension": ".py",
   "mimetype": "text/x-python",
   "name": "python",
   "nbconvert_exporter": "python",
   "pygments_lexer": "ipython3",
   "version": "3.11.9"
  }
 },
 "nbformat": 4,
 "nbformat_minor": 2
}
