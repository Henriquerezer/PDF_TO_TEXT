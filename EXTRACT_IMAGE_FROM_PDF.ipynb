{
 "cells": [
  {
   "cell_type": "markdown",
   "metadata": {},
   "source": [
    "TESTANDO DIFERENTES BIBLIOTECAS E ENTENDO O PQ NÃO POSSUEM O MESMO DESEMPENHO EM DIFERENTES PDFs"
   ]
  },
  {
   "cell_type": "code",
   "execution_count": 1,
   "metadata": {},
   "outputs": [],
   "source": [
    "#import spire.pdf\n",
    "\n",
    "from spire.pdf import *\n",
    "from spire.pdf.common import *"
   ]
  },
  {
   "cell_type": "markdown",
   "metadata": {},
   "source": [
    "# spire.pdf"
   ]
  },
  {
   "cell_type": "code",
   "execution_count": 3,
   "metadata": {},
   "outputs": [],
   "source": [
    "doc = PdfDocument()\n",
    "doc.LoadFromFile('pagina 6 com imagens.pdf')"
   ]
  },
  {
   "cell_type": "code",
   "execution_count": null,
   "metadata": {},
   "outputs": [],
   "source": [
    "from spire.pdf.common import *\n",
    "from spire.pdf import *\n",
    "\n",
    "# Create a PdfDocument object\n",
    "doc = PdfDocument()\n",
    "\n",
    "# Load a PDF document\n",
    "doc.LoadFromFile('pagina 6 com imagens.pdf')\n",
    "\n",
    "images = []\n",
    "\n",
    "# Loop through the pages in the document\n",
    "for i in range(doc.Pages.Count):\n",
    "    page = doc.Pages.get_Item(i)\n",
    "\n",
    "    # Extract images from a specific page\n",
    "    for image in page.ExtractImages():\n",
    "        images.append(image)\n",
    "\n",
    "# Save images to specified location with specified format extension\n",
    "index = 0\n",
    "for image in images:\n",
    "    imageFileName = '/IMAGE/Image-{0:d}.png'.format(index)\n",
    "    index += 1\n",
    "    image.Save(imageFileName, ImageFormat.get_Png())\n",
    "doc.Close()"
   ]
  },
  {
   "cell_type": "markdown",
   "metadata": {},
   "source": [
    "# ironpdf"
   ]
  },
  {
   "cell_type": "code",
   "execution_count": 1,
   "metadata": {},
   "outputs": [
    {
     "name": "stdout",
     "output_type": "stream",
     "text": [
      "Attempting import of IronPdf 2024.4.1.2\n",
      "Checking directory \"c:\\Users\\hreze\\OneDrive\\Documentos\\bucoapp-questions-extract-main\\.venv\"\n",
      "Warning! Failed to install .NET 6.0. Consider manually installing .NET 6.0 from https://dotnet.microsoft.com/en-us/download/dotnet/6.0\n",
      "Succesfully located files in \"c:\\Users\\hreze\\OneDrive\\Documentos\\bucoapp-questions-extract-main\\.venv\"\n",
      "IronPdf detected root Python package directory of c:\\Users\\hreze\\OneDrive\\Documentos\\bucoapp-questions-extract-main\\.venv/IronPdf.Slim\n",
      "IronPdf will now download dependencies for Windows to c:\\Users\\hreze\\OneDrive\\Documentos\\bucoapp-questions-extract-main\\.venv\\IronPdf.Native.Chrome.Windows\\2024.4.1.2. If you encounter any issues launching IronPdf, please remove .nupkg files from this directory and try again. Visit https://ironpdf.com/python/docs/ for more information.\n",
      "Optionally you may set Installation.CustomDeploymentDirectory to a custom directory and manually download IronPdf.Native.Chrome.Windows NuGet package to this directory.\n"
     ]
    }
   ],
   "source": [
    "from ironpdf import PdfDocument"
   ]
  },
  {
   "cell_type": "markdown",
   "metadata": {},
   "source": [
    "# fitz"
   ]
  },
  {
   "cell_type": "code",
   "execution_count": 3,
   "metadata": {},
   "outputs": [
    {
     "ename": "AttributeError",
     "evalue": "'Document' object has no attribute 'getPageImageList'",
     "output_type": "error",
     "traceback": [
      "\u001b[1;31m---------------------------------------------------------------------------\u001b[0m",
      "\u001b[1;31mAttributeError\u001b[0m                            Traceback (most recent call last)",
      "Cell \u001b[1;32mIn[3], line 4\u001b[0m\n\u001b[0;32m      2\u001b[0m doc \u001b[38;5;241m=\u001b[39m fitz\u001b[38;5;241m.\u001b[39mopen(\u001b[38;5;124m\"\u001b[39m\u001b[38;5;124mpagina 6 com imagens.pdf\u001b[39m\u001b[38;5;124m\"\u001b[39m)\n\u001b[0;32m      3\u001b[0m \u001b[38;5;28;01mfor\u001b[39;00m i \u001b[38;5;129;01min\u001b[39;00m \u001b[38;5;28mrange\u001b[39m(\u001b[38;5;28mlen\u001b[39m(doc)):\n\u001b[1;32m----> 4\u001b[0m     \u001b[38;5;28;01mfor\u001b[39;00m img \u001b[38;5;129;01min\u001b[39;00m \u001b[43mdoc\u001b[49m\u001b[38;5;241;43m.\u001b[39;49m\u001b[43mgetPageImageList\u001b[49m(i):\n\u001b[0;32m      5\u001b[0m         xref \u001b[38;5;241m=\u001b[39m img[\u001b[38;5;241m0\u001b[39m]\n\u001b[0;32m      6\u001b[0m         pix \u001b[38;5;241m=\u001b[39m fitz\u001b[38;5;241m.\u001b[39mPixmap(doc, xref)\n",
      "\u001b[1;31mAttributeError\u001b[0m: 'Document' object has no attribute 'getPageImageList'"
     ]
    }
   ],
   "source": [
    "import fitz\n",
    "doc = fitz.open(\"pagina 6 com imagens.pdf\")\n",
    "for i in range(len(doc)):\n",
    "    for img in doc.getPageImageList(i):\n",
    "        xref = img[0]\n",
    "        pix = fitz.Pixmap(doc, xref)\n",
    "        if pix.n < 5:       # this is GRAY or RGB\n",
    "            pix.writePNG(\"p%s-%s.png\" % (i, xref))\n",
    "        else:               # CMYK: convert to RGB first\n",
    "            pix1 = fitz.Pixmap(fitz.csRGB, pix)\n",
    "            pix1.writePNG(\"p%s-%s.png\" % (i, xref))\n",
    "            pix1 = None\n",
    "        pix = None"
   ]
  },
  {
   "cell_type": "markdown",
   "metadata": {},
   "source": [
    "# aspose.pdf"
   ]
  },
  {
   "cell_type": "code",
   "execution_count": 4,
   "metadata": {},
   "outputs": [],
   "source": [
    "import aspose.pdf as ap\n",
    "import aspose.pydrawing as drawing\n",
    "\n",
    "# Load the PDF\n",
    "document = ap.Document(\"pagina 6 com imagens.pdf\")\n",
    "\n",
    "image_counter = 1\n",
    "image_name = \"image_{counter}.jpg\"\n",
    "\n",
    "# Loop through all pages\n",
    "for page in document.pages:\n",
    "\n",
    "    # Loop through images on page\n",
    "    for image in page.resources.images: \n",
    "        \n",
    "        # Create a memory stream object to save image\n",
    "        with open(image_name.format(counter=image_counter), \"wb\") as stream:\n",
    "           \n",
    "            # Save the image\n",
    "            image.save(stream, drawing.imaging.ImageFormat.jpeg)\n",
    "            image_counter = image_counter + 1"
   ]
  },
  {
   "cell_type": "markdown",
   "metadata": {},
   "source": [
    "# PIKEPDF"
   ]
  },
  {
   "cell_type": "code",
   "execution_count": 11,
   "metadata": {},
   "outputs": [
    {
     "name": "stdout",
     "output_type": "stream",
     "text": [
      "['/Image33', '/Image36']\n"
     ]
    },
    {
     "data": {
      "text/plain": [
       "'test6.jpg'"
      ]
     },
     "execution_count": 11,
     "metadata": {},
     "output_type": "execute_result"
    }
   ],
   "source": [
    "from pikepdf import Pdf, Name, PdfImage\n",
    "\n",
    "old_pdf = Pdf.open('Resumo Cirurgia Buco-Maxilo-Facial II.pdf')\n",
    "page_1 = old_pdf.pages[1]\n",
    "print(list(page_1.images.keys()))\n",
    "\n",
    "raw_image = page_1.images['/Image33']\n",
    "pdf_image = PdfImage(raw_image)\n",
    "pdf_image.extract_to(fileprefix=\"test6\")"
   ]
  },
  {
   "cell_type": "code",
   "execution_count": null,
   "metadata": {},
   "outputs": [],
   "source": []
  }
 ],
 "metadata": {
  "kernelspec": {
   "display_name": ".venv",
   "language": "python",
   "name": "python3"
  },
  "language_info": {
   "codemirror_mode": {
    "name": "ipython",
    "version": 3
   },
   "file_extension": ".py",
   "mimetype": "text/x-python",
   "name": "python",
   "nbconvert_exporter": "python",
   "pygments_lexer": "ipython3",
   "version": "3.11.9"
  }
 },
 "nbformat": 4,
 "nbformat_minor": 2
}
